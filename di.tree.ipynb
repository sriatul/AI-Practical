{
 "cells": [
  {
   "cell_type": "code",
   "execution_count": null,
   "id": "ab4a8982-965a-4337-b807-c5c8192b5fa9",
   "metadata": {},
   "outputs": [],
   "source": []
  }
 ],
 "metadata": {
  "kernelspec": {
   "display_name": "",
   "name": ""
  },
  "language_info": {
   "name": ""
  }
 },
 "nbformat": 4,
 "nbformat_minor": 5
}
