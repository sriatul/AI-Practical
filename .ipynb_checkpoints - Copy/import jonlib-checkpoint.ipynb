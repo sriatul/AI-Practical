{
 "cells": [
  {
   "cell_type": "code",
   "execution_count": 8,
   "id": "ff89ccc1-72d8-4806-9f83-96379c74cac5",
   "metadata": {},
   "outputs": [],
   "source": [
    "import joblib"
   ]
  },
  {
   "cell_type": "code",
   "execution_count": 9,
   "id": "26e46858-981d-4436-9f61-a5d594e08d78",
   "metadata": {},
   "outputs": [],
   "source": [
    "model1 = joblib.load('mj')"
   ]
  },
  {
   "cell_type": "code",
   "execution_count": 10,
   "id": "d2475695-97fb-45eb-995b-ea50f33b3e5c",
   "metadata": {},
   "outputs": [
    {
     "data": {
      "text/plain": [
       "-986046.511627906"
      ]
     },
     "execution_count": 10,
     "metadata": {},
     "output_type": "execute_result"
    }
   ],
   "source": [
    "model1.intercept_"
   ]
  },
  {
   "cell_type": "code",
   "execution_count": 11,
   "id": "15e3ba50-9a87-4d19-a03f-d3d9a44b29c8",
   "metadata": {},
   "outputs": [
    {
     "data": {
      "text/plain": [
       "array([3901.80878553])"
      ]
     },
     "execution_count": 11,
     "metadata": {},
     "output_type": "execute_result"
    }
   ],
   "source": [
    "model1.coef_"
   ]
  },
  {
   "cell_type": "code",
   "execution_count": 14,
   "id": "31ccdf3e-3e52-4c99-bc81-afdbf45d8518",
   "metadata": {},
   "outputs": [
    {
     "name": "stderr",
     "output_type": "stream",
     "text": [
      "C:\\Users\\Accer\\AppData\\Local\\Programs\\Python\\Python310\\lib\\site-packages\\sklearn\\base.py:493: UserWarning: X does not have valid feature names, but LinearRegression was fitted with feature names\n",
      "  warnings.warn(\n"
     ]
    },
    {
     "data": {
      "text/plain": [
       "array([2720671.83462532])"
      ]
     },
     "execution_count": 14,
     "metadata": {},
     "output_type": "execute_result"
    }
   ],
   "source": [
    "model1.predict([[950]])"
   ]
  },
  {
   "cell_type": "code",
   "execution_count": null,
   "id": "6bb028ae-5dcc-4d2e-8e00-4c414da30a12",
   "metadata": {},
   "outputs": [],
   "source": []
  }
 ],
 "metadata": {
  "kernelspec": {
   "display_name": "Python 3 (ipykernel)",
   "language": "python",
   "name": "python3"
  },
  "language_info": {
   "codemirror_mode": {
    "name": "ipython",
    "version": 3
   },
   "file_extension": ".py",
   "mimetype": "text/x-python",
   "name": "python",
   "nbconvert_exporter": "python",
   "pygments_lexer": "ipython3",
   "version": "3.10.11"
  }
 },
 "nbformat": 4,
 "nbformat_minor": 5
}
